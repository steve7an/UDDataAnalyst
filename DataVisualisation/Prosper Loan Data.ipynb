{
 "cells": [
  {
   "cell_type": "markdown",
   "metadata": {},
   "source": [
    "### Summary\n",
    "\n",
    "\n",
    "#### About the dataset\n",
    "This data set contains 113,937 loans from Prosper with 81 variables on each loan, including loan amount, borrower rate (or interest rate), current loan status, borrower income, and many others.\n",
    "Prosper is a marketplace lending platform which allows people to invest in each other via loan requests between USD 2,000 and  USD 35,000. Prosper handles the servicing of the loan on behalf of the matched borrowers and investors.\n",
    "\n",
    "\n",
    "#### New features\n",
    "I've create a new column which combines both the Credit Grade and the Prosper rating because Prosper decided to use a different credit grading method from 2009 onwards. I've also created a new column which maps the loan category to the description rather than showing just the number which represent the category.\n",
    "\n",
    "### Design\n",
    "\n",
    "Since this is a new medium of investment, I was interested to check on how safe these investments were. So some of the basic questions that came to mind was:\n",
    "1. What were the types of investments that was offered on this platform?\n",
    "1. How risky are these investments using this platform?\n",
    "1. What kind of return on investments that are possible using these loan instruments?\n",
    "\n",
    "But as they were a lot of attributes involved, I've choose to look at the overview of the investments and correlate them to the credit or prosper rating to look for potential investments.I use a line graph because I wanted to compare the number of loans that was offered on the platform across time.  Subsequently going back to the risk assessment, I wanted to compare the growth of the number of loans against the quality of these loans measured in terms of how many loans were completed or maintained up to date against loans which were defaulted or charged off (the borrower failed to pay after the due date and the lending company had to do a write off on these loans), so for this I use a stacked bar because I wanted to keep each group of loan status consolidated per year and so that the visualisation created wouldn't be too crowded with too much information. Moving onto the third plot, I wanted to compare the potential return and risk on the available investments based on the credit grade or prosper rating, thus I choose a slightly different visualisation by plotting the return on a line against the risk using a bar graph.\n",
    "\n",
    "\n",
    "### Feedback\n",
    "\n",
    "I've try to request for feed back via three channels:\n",
    "1. My Udacity mentor\n",
    "1. The DAND Slack channel\n",
    "1. Udacity forum\n",
    "1. Tableau forum\n",
    "\n",
    "I've receive a review comment from the slack channel as follows:\n",
    "\n",
    "> No suggestions on the first plot.  Looks good to me.\n",
    " In the second plot, it would be nice if things were grouped a bit more - the small percentage of individuals in some of the groups isn't really that helpful - maybe just the bad events in one group, and good events in the other.\n",
    "I found the final plot hard to follow - and I wasn't able to locate the insight you pointed out at the top easily - perhaps there is a better way to show these amounts - maybe creating a column of the differences? and then just plotting those over year colored by each type?\n",
    "\n",
    "> for the second plot - I think it would just draw my eye to the main point of interest.  I was a little distracted by all the categories on the right, eventhough most of them weren't present very often (edited)\n",
    "could use a set/group to do this\n",
    "actually looking at the final plot, maybe just two lines would work okay - I actually see your insight clearly now, I just can't read...\n",
    "Since the axes are the same magnitude, I wonder if you could remove one of them?"
   ]
  },
  {
   "cell_type": "code",
   "execution_count": 1,
   "metadata": {},
   "outputs": [
    {
     "data": {
      "text/html": [
       "<div class='tableauPlaceholder' id='viz1518272805379' style='position: relative'><noscript><a href='#'><img alt='Story 1 ' src='https:&#47;&#47;public.tableau.com&#47;static&#47;images&#47;pr&#47;prosper_loan_data_0&#47;Story1&#47;1_rss.png' style='border: none' /></a></noscript><object class='tableauViz'  style='display:none;'><param name='host_url' value='https%3A%2F%2Fpublic.tableau.com%2F' /> <param name='embed_code_version' value='3' /> <param name='site_root' value='' /><param name='name' value='prosper_loan_data_0&#47;Story1' /><param name='tabs' value='no' /><param name='toolbar' value='yes' /><param name='static_image' value='https:&#47;&#47;public.tableau.com&#47;static&#47;images&#47;pr&#47;prosper_loan_data_0&#47;Story1&#47;1.png' /> <param name='animate_transition' value='yes' /><param name='display_static_image' value='yes' /><param name='display_spinner' value='yes' /><param name='display_overlay' value='yes' /><param name='display_count' value='yes' /><param name='filter' value='publish=yes' /></object></div>                <script type='text/javascript'>                    var divElement = document.getElementById('viz1518272805379');                    var vizElement = divElement.getElementsByTagName('object')[0];                    vizElement.style.width='1016px';vizElement.style.height='991px';                    var scriptElement = document.createElement('script');                    scriptElement.src = 'https://public.tableau.com/javascripts/api/viz_v1.js';                    vizElement.parentNode.insertBefore(scriptElement, vizElement);                </script>"
      ],
      "text/plain": [
       "<IPython.core.display.HTML object>"
      ]
     },
     "metadata": {},
     "output_type": "display_data"
    }
   ],
   "source": [
    "%%HTML\n",
    "<div class='tableauPlaceholder' id='viz1518272805379' style='position: relative'><noscript><a href='#'><img alt='Story 1 ' src='https:&#47;&#47;public.tableau.com&#47;static&#47;images&#47;pr&#47;prosper_loan_data_0&#47;Story1&#47;1_rss.png' style='border: none' /></a></noscript><object class='tableauViz'  style='display:none;'><param name='host_url' value='https%3A%2F%2Fpublic.tableau.com%2F' /> <param name='embed_code_version' value='3' /> <param name='site_root' value='' /><param name='name' value='prosper_loan_data_0&#47;Story1' /><param name='tabs' value='no' /><param name='toolbar' value='yes' /><param name='static_image' value='https:&#47;&#47;public.tableau.com&#47;static&#47;images&#47;pr&#47;prosper_loan_data_0&#47;Story1&#47;1.png' /> <param name='animate_transition' value='yes' /><param name='display_static_image' value='yes' /><param name='display_spinner' value='yes' /><param name='display_overlay' value='yes' /><param name='display_count' value='yes' /><param name='filter' value='publish=yes' /></object></div>                <script type='text/javascript'>                    var divElement = document.getElementById('viz1518272805379');                    var vizElement = divElement.getElementsByTagName('object')[0];                    vizElement.style.width='1016px';vizElement.style.height='991px';                    var scriptElement = document.createElement('script');                    scriptElement.src = 'https://public.tableau.com/javascripts/api/viz_v1.js';                    vizElement.parentNode.insertBefore(scriptElement, vizElement);                </script>"
   ]
  },
  {
   "cell_type": "markdown",
   "metadata": {},
   "source": [
    "#### Revision 1\n",
    "\n",
    "Based on the above feedback, I've updated the second plot to separate out the loan grouping so that each loan status can be clustered together for easier comparison and I've also added the credit grade or prosper rating into the visualisation to show an additional layer of information. For the third chart, instead of plotting a more eccentric graph, as advised, I changed the plot to show line graph for easier comparison.\n",
    "I've also clean up the three charts to remove unnecessary labelling and other elements removal to keep the data to ink ratio as high as possible."
   ]
  },
  {
   "cell_type": "code",
   "execution_count": 1,
   "metadata": {},
   "outputs": [
    {
     "data": {
      "text/html": [
       "<div class='tableauPlaceholder' id='viz1518327142359' style='position: relative'><noscript><a href='#'><img alt='Story 1 ' src='https:&#47;&#47;public.tableau.com&#47;static&#47;images&#47;97&#47;97PCW5R49&#47;1_rss.png' style='border: none' /></a></noscript><object class='tableauViz'  style='display:none;'><param name='host_url' value='https%3A%2F%2Fpublic.tableau.com%2F' /> <param name='embed_code_version' value='3' /> <param name='path' value='shared&#47;97PCW5R49' /> <param name='toolbar' value='yes' /><param name='static_image' value='https:&#47;&#47;public.tableau.com&#47;static&#47;images&#47;97&#47;97PCW5R49&#47;1.png' /> <param name='animate_transition' value='yes' /><param name='display_static_image' value='yes' /><param name='display_spinner' value='yes' /><param name='display_overlay' value='yes' /><param name='display_count' value='yes' /><param name='filter' value='publish=yes' /></object></div>                <script type='text/javascript'>                    var divElement = document.getElementById('viz1518327142359');                    var vizElement = divElement.getElementsByTagName('object')[0];                    vizElement.style.width='1016px';vizElement.style.height='991px';                    var scriptElement = document.createElement('script');                    scriptElement.src = 'https://public.tableau.com/javascripts/api/viz_v1.js';                    vizElement.parentNode.insertBefore(scriptElement, vizElement);                </script>"
      ],
      "text/plain": [
       "<IPython.core.display.HTML object>"
      ]
     },
     "metadata": {},
     "output_type": "display_data"
    }
   ],
   "source": [
    "%%HTML\n",
    "<div class='tableauPlaceholder' id='viz1518327142359' style='position: relative'><noscript><a href='#'><img alt='Story 1 ' src='https:&#47;&#47;public.tableau.com&#47;static&#47;images&#47;97&#47;97PCW5R49&#47;1_rss.png' style='border: none' /></a></noscript><object class='tableauViz'  style='display:none;'><param name='host_url' value='https%3A%2F%2Fpublic.tableau.com%2F' /> <param name='embed_code_version' value='3' /> <param name='path' value='shared&#47;97PCW5R49' /> <param name='toolbar' value='yes' /><param name='static_image' value='https:&#47;&#47;public.tableau.com&#47;static&#47;images&#47;97&#47;97PCW5R49&#47;1.png' /> <param name='animate_transition' value='yes' /><param name='display_static_image' value='yes' /><param name='display_spinner' value='yes' /><param name='display_overlay' value='yes' /><param name='display_count' value='yes' /><param name='filter' value='publish=yes' /></object></div>                <script type='text/javascript'>                    var divElement = document.getElementById('viz1518327142359');                    var vizElement = divElement.getElementsByTagName('object')[0];                    vizElement.style.width='1016px';vizElement.style.height='991px';                    var scriptElement = document.createElement('script');                    scriptElement.src = 'https://public.tableau.com/javascripts/api/viz_v1.js';                    vizElement.parentNode.insertBefore(scriptElement, vizElement);                </script>"
   ]
  },
  {
   "cell_type": "markdown",
   "metadata": {},
   "source": [
    "### Resources\n",
    "\n",
    "1. Playbook - https://d17h27t6h515a5.cloudfront.net/topher/2017/May/5919424e_03.datavisualizationplaybook/03.datavisualizationplaybook.pdf\n",
    "1. Data dictionary - https://docs.google.com/spreadsheets/d/1gDyi_L4UvIrLTEC6Wri5nbaMmkGmLQBk-Yx3z0XDEtI/edit#gid=0\n",
    "1. About Prosper - https://www.prosper.com/plp/about/\n",
    "1. Credit Grades - https://www.orchardplatform.com/blog/credit-variables-explained-credit-grades-on-lendingclub-and-prosper/\n",
    "1. Fico scores - https://www.experian.com/blogs/ask-experian/infographic-what-are-the-different-scoring-ranges/\n",
    "1. Rubric - https://review.udacity.com/#!/rubrics/948/view\n",
    "1. A process model on P2P Lending - https://link.springer.com/article/10.1186/s40854-015-0002-9\n",
    "1. Risks on P2P Lending - https://www.entrepreneur.com/article/305185\n",
    "1. A business model on P2P Lending - https://www.ceps.eu/system/files/ECRI%20RR17%20P2P%20Lending.pdf\n",
    "1. Determinants of default in P2P Lending - https://www.ncbi.nlm.nih.gov/pmc/articles/PMC4591266/\n",
    "1. What is a charged off - https://www.thebalance.com/what-is-a-credit-card-charge-off-960409\n",
    "1. Correlation matrix in tableau - https://boraberan.wordpress.com/2013/12/09/creating-a-correlation-matrix-in-tableau-using-r-or-table-calculations/\n",
    "1. Dataset link here - https://www.dropbox.com/s/a3scgg0xfarw9e2/prosperLoanData.xlsx?dl=0"
   ]
  }
 ],
 "metadata": {
  "kernelspec": {
   "display_name": "Python 2",
   "language": "python",
   "name": "python2"
  },
  "language_info": {
   "codemirror_mode": {
    "name": "ipython",
    "version": 2
   },
   "file_extension": ".py",
   "mimetype": "text/x-python",
   "name": "python",
   "nbconvert_exporter": "python",
   "pygments_lexer": "ipython2",
   "version": "2.7.14"
  }
 },
 "nbformat": 4,
 "nbformat_minor": 2
}
